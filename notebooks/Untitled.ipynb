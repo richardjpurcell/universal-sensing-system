{
 "cells": [
  {
   "cell_type": "code",
   "execution_count": null,
   "id": "aefa8b0b-dbab-48f7-afe9-cc34dde63ace",
   "metadata": {},
   "outputs": [],
   "source": []
  }
 ],
 "metadata": {
  "kernelspec": {
   "display_name": "",
   "name": ""
  },
  "language_info": {
   "name": ""
  }
 },
 "nbformat": 4,
 "nbformat_minor": 5
}
